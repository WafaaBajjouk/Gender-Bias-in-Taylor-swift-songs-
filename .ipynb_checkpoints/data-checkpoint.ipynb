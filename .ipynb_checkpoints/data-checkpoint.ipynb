{
 "cells": [
  {
   "cell_type": "markdown",
   "id": "5ce5430b-d94f-4cbc-ac6d-c3d33a7018f1",
   "metadata": {},
   "source": [
    "## Merging Album Datasets\n",
    "\n",
    "This process involves combining individual datasets from various albums into a single, comprehensive dataset. The resulting dataset encompasses the complete collection of lyrics across all albums.\n"
   ]
  },
  {
   "cell_type": "code",
   "execution_count": 4,
   "id": "414fc2a2-85df-4d8c-ad9b-270005df29d3",
   "metadata": {},
   "outputs": [
    {
     "name": "stdout",
     "output_type": "stream",
     "text": [
      "All CSV files have been merged into Lyrics_dataset.csv\n"
     ]
    }
   ],
   "source": [
    "import csv\n",
    "import os\n",
    "\n",
    "csv_files = [f for f in os.listdir('.') if f.endswith('.csv')]\n",
    "\n",
    "output_file = 'Lyrics_dataset.csv'\n",
    "\n",
    "with open(output_file, mode='w', newline='', encoding='utf-8') as outfile:\n",
    "    writer = csv.writer(outfile)\n",
    "    first_file = True\n",
    "    \n",
    "    for file in csv_files:\n",
    "        with open(file, mode='r', encoding='utf-8') as infile:\n",
    "            reader = csv.reader(infile)\n",
    "            header = next(reader)\n",
    "            \n",
    "            if first_file:  \n",
    "                writer.writerow(header)\n",
    "                first_file = False\n",
    "            \n",
    "            for row in reader:\n",
    "                writer.writerow(row)\n",
    "\n",
    "print(f\"All CSV files have been merged into {output_file}\")"
   ]
  },
  {
   "cell_type": "markdown",
   "id": "85c93cc0-312b-460a-92fb-458829ff8737",
   "metadata": {},
   "source": [
    "\n",
    "# Cleaning the Lyrics Column\n",
    "1. **Removing Punctuation**\n",
    "2. **Converting to Lowercase**"
   ]
  },
  {
   "cell_type": "code",
   "execution_count": 8,
   "id": "4a0d2d18-4845-4353-bd44-2ccb251e4424",
   "metadata": {},
   "outputs": [],
   "source": [
    "import pandas as pd\n",
    "import string\n",
    "\n",
    "df = pd.read_csv('Lyrics_dataset.csv')\n",
    "\n",
    "def remove_punctuation(text):\n",
    "    return text.translate(str.maketrans('', '', string.punctuation))\n",
    "df['lyric'] = df['lyric'].apply(lambda x: remove_punctuation(x).lower() if isinstance(x, str) else x)\n",
    "\n",
    "df.to_csv('cleaned_lyrics_dataset.csv', index=False)\n"
   ]
  }
 ],
 "metadata": {
  "kernelspec": {
   "display_name": "Python 3 (ipykernel)",
   "language": "python",
   "name": "python3"
  },
  "language_info": {
   "codemirror_mode": {
    "name": "ipython",
    "version": 3
   },
   "file_extension": ".py",
   "mimetype": "text/x-python",
   "name": "python",
   "nbconvert_exporter": "python",
   "pygments_lexer": "ipython3",
   "version": "3.11.7"
  }
 },
 "nbformat": 4,
 "nbformat_minor": 5
}
