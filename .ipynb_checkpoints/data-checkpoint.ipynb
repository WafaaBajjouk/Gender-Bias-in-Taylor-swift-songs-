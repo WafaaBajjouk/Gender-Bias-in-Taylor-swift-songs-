{
 "cells": [
  {
   "cell_type": "markdown",
   "id": "5ce5430b-d94f-4cbc-ac6d-c3d33a7018f1",
   "metadata": {},
   "source": [
    "## Merging Album Datasets\n",
    "\n",
    "This process involves combining individual datasets from various albums into a single, comprehensive dataset. The resulting dataset encompasses the complete collection of lyrics across all albums.\n"
   ]
  },
  {
   "cell_type": "code",
   "execution_count": 4,
   "id": "414fc2a2-85df-4d8c-ad9b-270005df29d3",
   "metadata": {},
   "outputs": [
    {
     "name": "stdout",
     "output_type": "stream",
     "text": [
      "All CSV files have been merged into Lyrics_dataset.csv\n"
     ]
    }
   ],
   "source": [
    "import csv\n",
    "import os\n",
    "\n",
    "csv_files = [f for f in os.listdir('.') if f.endswith('.csv')]\n",
    "\n",
    "output_file = 'Lyrics_dataset.csv'\n",
    "\n",
    "with open(output_file, mode='w', newline='', encoding='utf-8') as outfile:\n",
    "    writer = csv.writer(outfile)\n",
    "    first_file = True\n",
    "    \n",
    "    for file in csv_files:\n",
    "        with open(file, mode='r', encoding='utf-8') as infile:\n",
    "            reader = csv.reader(infile)\n",
    "            header = next(reader)\n",
    "            \n",
    "            if first_file:  \n",
    "                writer.writerow(header)\n",
    "                first_file = False\n",
    "            \n",
    "            for row in reader:\n",
    "                writer.writerow(row)\n",
    "\n",
    "print(f\"All CSV files have been merged into {output_file}\")"
   ]
  },
  {
   "cell_type": "markdown",
   "id": "85c93cc0-312b-460a-92fb-458829ff8737",
   "metadata": {},
   "source": [
    "\n",
    "# Cleaning the Lyrics Column\n",
    "1. **Removing Punctuation**\n",
    "2. **Converting to Lowercase**"
   ]
  },
  {
   "cell_type": "code",
   "execution_count": 19,
   "id": "4a0d2d18-4845-4353-bd44-2ccb251e4424",
   "metadata": {},
   "outputs": [],
   "source": [
    "import pandas as pd\n",
    "import string\n",
    "\n",
    "df = pd.read_csv('data/Lyrics_dataset.csv')\n",
    "\n",
    "def remove_punctuation(text):\n",
    "    return text.translate(str.maketrans('', '', string.punctuation))\n",
    "df['lyric'] = df['lyric'].apply(lambda x: remove_punctuation(x).lower() if isinstance(x, str) else x)\n",
    "\n",
    "df.to_csv('cleaned_lyrics_dataset.csv', index=False)\n"
   ]
  },
  {
   "cell_type": "code",
   "execution_count": 25,
   "id": "4a612498-e0d4-4a49-a72b-2ddcd8954761",
   "metadata": {},
   "outputs": [
    {
     "ename": "NameError",
     "evalue": "name 'e' is not defined",
     "output_type": "error",
     "traceback": [
      "\u001b[0;31m---------------------------------------------------------------------------\u001b[0m",
      "\u001b[0;31mNameError\u001b[0m                                 Traceback (most recent call last)",
      "Cell \u001b[0;32mIn[25], line 6\u001b[0m\n\u001b[1;32m      2\u001b[0m \u001b[38;5;28;01mimport\u001b[39;00m \u001b[38;5;21;01mstring\u001b[39;00m\n\u001b[1;32m      5\u001b[0m dd \u001b[38;5;241m=\u001b[39m pd\u001b[38;5;241m.\u001b[39mread_csv(\u001b[38;5;124m'\u001b[39m\u001b[38;5;124mdata/Taylor_Swift_Genius_Data.csv\u001b[39m\u001b[38;5;124m'\u001b[39m, delimiter\u001b[38;5;241m=\u001b[39m\u001b[38;5;124m'\u001b[39m\u001b[38;5;124m;\u001b[39m\u001b[38;5;124m'\u001b[39m)\n\u001b[0;32m----> 6\u001b[0m \u001b[38;5;28mprint\u001b[39m(\u001b[38;5;124mf\u001b[39m\u001b[38;5;124m\"\u001b[39m\u001b[38;5;124mError reading the file: \u001b[39m\u001b[38;5;132;01m{\u001b[39;00m\u001b[43me\u001b[49m\u001b[38;5;132;01m}\u001b[39;00m\u001b[38;5;124m\"\u001b[39m)\n\u001b[1;32m      7\u001b[0m \u001b[38;5;28;01mdef\u001b[39;00m \u001b[38;5;21mremove_punctuation\u001b[39m(text):\n\u001b[1;32m      8\u001b[0m     \u001b[38;5;28;01mreturn\u001b[39;00m text\u001b[38;5;241m.\u001b[39mtranslate(\u001b[38;5;28mstr\u001b[39m\u001b[38;5;241m.\u001b[39mmaketrans(\u001b[38;5;124m'\u001b[39m\u001b[38;5;124m'\u001b[39m, \u001b[38;5;124m'\u001b[39m\u001b[38;5;124m'\u001b[39m, string\u001b[38;5;241m.\u001b[39mpunctuation))\u001b[38;5;241m.\u001b[39mlower()\n",
      "\u001b[0;31mNameError\u001b[0m: name 'e' is not defined"
     ]
    }
   ],
   "source": [
    "import pandas as pd\n",
    "import string\n",
    "\n",
    "\n",
    "dd = pd.read_csv('data/Taylor_Swift_Genius_Data.csv', delimiter=';')\n",
    "\n",
    "def remove_punctuation(text):\n",
    "    return text.translate(str.maketrans('', '', string.punctuation)).lower()\n",
    "dd['Lyrics'] = dd['Lyrics'].apply(lambda x: remove_punctuation(x) if isinstance(x, str) else x)\n",
    "output_path_dd = 'cleaned_lyrics_dataset2_dd.csv'\n",
    "dd.to_csv(output_path_dd, index=False)\n",
    "\n",
    "output_path_dd\n"
   ]
  },
  {
   "cell_type": "code",
   "execution_count": null,
   "id": "79686934-2781-46a7-b898-a442451b21d8",
   "metadata": {},
   "outputs": [],
   "source": []
  }
 ],
 "metadata": {
  "kernelspec": {
   "display_name": "Python 3 (ipykernel)",
   "language": "python",
   "name": "python3"
  },
  "language_info": {
   "codemirror_mode": {
    "name": "ipython",
    "version": 3
   },
   "file_extension": ".py",
   "mimetype": "text/x-python",
   "name": "python",
   "nbconvert_exporter": "python",
   "pygments_lexer": "ipython3",
   "version": "3.11.7"
  }
 },
 "nbformat": 4,
 "nbformat_minor": 5
}
