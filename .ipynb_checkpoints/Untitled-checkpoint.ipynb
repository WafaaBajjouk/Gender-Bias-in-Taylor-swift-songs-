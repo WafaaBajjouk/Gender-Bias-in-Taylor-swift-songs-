{
 "cells": [
  {
   "cell_type": "markdown",
   "id": "947e50fc-02ef-47c7-8212-6f2bbfe407dc",
   "metadata": {},
   "source": [
    "valence - A measure from 0.0 to 1.0 describing the musical positiveness conveyed by a track. Tracks with high valence sound more positive (e.g. happy, cheerful, euphoric), while tracks with low valence sound more negative (e.g. sad, depressed, angry)."
   ]
  },
  {
   "cell_type": "code",
   "execution_count": 10,
   "id": "b04dddf9-9302-4f89-b14d-63a38fd25c18",
   "metadata": {},
   "outputs": [
    {
     "name": "stderr",
     "output_type": "stream",
     "text": [
      "[nltk_data] Downloading package punkt to\n",
      "[nltk_data]     /Users/wafaabajjouk/nltk_data...\n",
      "[nltk_data]   Package punkt is already up-to-date!\n"
     ]
    },
    {
     "data": {
      "text/plain": [
       "True"
      ]
     },
     "execution_count": 10,
     "metadata": {},
     "output_type": "execute_result"
    }
   ],
   "source": [
    "from nltk.tokenize import word_tokenize\n",
    "import nltk\n",
    "from collections import Counter\n",
    "\n",
    "nltk.download('punkt')\n"
   ]
  },
  {
   "cell_type": "code",
   "execution_count": 8,
   "id": "77250ac0-7048-4d38-a25a-7742a2f3821b",
   "metadata": {},
   "outputs": [
    {
     "ename": "NameError",
     "evalue": "name 'album_gender_bias_stats' is not defined",
     "output_type": "error",
     "traceback": [
      "\u001b[0;31m---------------------------------------------------------------------------\u001b[0m",
      "\u001b[0;31mNameError\u001b[0m                                 Traceback (most recent call last)",
      "Cell \u001b[0;32mIn[8], line 7\u001b[0m\n\u001b[1;32m      1\u001b[0m \u001b[38;5;28;01mimport\u001b[39;00m \u001b[38;5;21;01mnumpy\u001b[39;00m \u001b[38;5;28;01mas\u001b[39;00m \u001b[38;5;21;01mnp\u001b[39;00m\n\u001b[1;32m      3\u001b[0m \u001b[38;5;66;03m# Assuming sentiment_counts and album_stats_sorted are already correctly defined and prepared\u001b[39;00m\n\u001b[1;32m      4\u001b[0m \u001b[38;5;66;03m# This example assumes a direct way to combine these datasets exists\u001b[39;00m\n\u001b[1;32m      5\u001b[0m \n\u001b[1;32m      6\u001b[0m \u001b[38;5;66;03m# Combine the datasets (this step is conceptual and depends on your actual data structure)\u001b[39;00m\n\u001b[0;32m----> 7\u001b[0m combined_df \u001b[38;5;241m=\u001b[39m pd\u001b[38;5;241m.\u001b[39mmerge(sentiment_counts, \u001b[43malbum_gender_bias_stats\u001b[49m, left_index\u001b[38;5;241m=\u001b[39m\u001b[38;5;28;01mTrue\u001b[39;00m, right_on\u001b[38;5;241m=\u001b[39m\u001b[38;5;124m'\u001b[39m\u001b[38;5;124mAlbum\u001b[39m\u001b[38;5;124m'\u001b[39m)\n\u001b[1;32m      9\u001b[0m \u001b[38;5;66;03m# Plotting\u001b[39;00m\n\u001b[1;32m     10\u001b[0m fig, ax1 \u001b[38;5;241m=\u001b[39m plt\u001b[38;5;241m.\u001b[39msubplots(figsize\u001b[38;5;241m=\u001b[39m(\u001b[38;5;241m14\u001b[39m, \u001b[38;5;241m8\u001b[39m))\n",
      "\u001b[0;31mNameError\u001b[0m: name 'album_gender_bias_stats' is not defined"
     ]
    }
   ],
   "source": [
    "\n",
    "\n",
    "def analyze_sentiment(lyrics):\n",
    "    # Analyze the sentiment of the lyrics\n",
    "    sentiment = TextBlob(lyrics).sentiment\n",
    "    # Convert the polarity to a percentage\n",
    "    sentiment_percentage = (sentiment.polarity + 1) / 2 * 100  # Mapping from [-1, 1] to [0%, 100%]\n",
    "    return sentiment_percentage\n",
    "\n",
    "df = pd.read_csv('cleaned_lyrics_dataset.csv')\n",
    "\n",
    "# Apply sentiment analysis to the Lyrics column\n",
    "df['Sentiment_Percentage'] = df['Lyrics'].apply(analyze_sentiment)\n",
    "\n",
    "# Save the results to a new CSV file\n",
    "output_path = 'sentiment_analysis_results.csv'\n",
    "df.to_csv(output_path, index=False)\n",
    "\n",
    "output_path\n"
   ]
  },
  {
   "cell_type": "code",
   "execution_count": null,
   "id": "1b3b799c-281f-4288-a2b0-4aea0aca19f7",
   "metadata": {},
   "outputs": [],
   "source": []
  }
 ],
 "metadata": {
  "kernelspec": {
   "display_name": "Python 3 (ipykernel)",
   "language": "python",
   "name": "python3"
  },
  "language_info": {
   "codemirror_mode": {
    "name": "ipython",
    "version": 3
   },
   "file_extension": ".py",
   "mimetype": "text/x-python",
   "name": "python",
   "nbconvert_exporter": "python",
   "pygments_lexer": "ipython3",
   "version": "3.11.7"
  }
 },
 "nbformat": 4,
 "nbformat_minor": 5
}
