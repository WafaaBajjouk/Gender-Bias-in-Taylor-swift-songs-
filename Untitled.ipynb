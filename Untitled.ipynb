{
 "cells": [
  {
   "cell_type": "markdown",
   "id": "947e50fc-02ef-47c7-8212-6f2bbfe407dc",
   "metadata": {},
   "source": [
    "valence - A measure from 0.0 to 1.0 describing the musical positiveness conveyed by a track. Tracks with high valence sound more positive (e.g. happy, cheerful, euphoric), while tracks with low valence sound more negative (e.g. sad, depressed, angry)."
   ]
  },
  {
   "cell_type": "code",
   "execution_count": 16,
   "id": "b04dddf9-9302-4f89-b14d-63a38fd25c18",
   "metadata": {},
   "outputs": [
    {
     "name": "stderr",
     "output_type": "stream",
     "text": [
      "[nltk_data] Downloading package punkt to\n",
      "[nltk_data]     /Users/wafaabajjouk/nltk_data...\n",
      "[nltk_data]   Package punkt is already up-to-date!\n"
     ]
    },
    {
     "data": {
      "text/plain": [
       "True"
      ]
     },
     "execution_count": 16,
     "metadata": {},
     "output_type": "execute_result"
    }
   ],
   "source": [
    "from nltk.tokenize import word_tokenize\n",
    "import nltk\n",
    "from collections import Counter\n",
    "\n",
    "nltk.download('punkt')\n"
   ]
  },
  {
   "cell_type": "code",
   "execution_count": 17,
   "id": "77250ac0-7048-4d38-a25a-7742a2f3821b",
   "metadata": {},
   "outputs": [
    {
     "data": {
      "text/plain": [
       "'album_sentiment_analysis_results.csv'"
      ]
     },
     "execution_count": 17,
     "metadata": {},
     "output_type": "execute_result"
    }
   ],
   "source": [
    "from textblob import TextBlob\n",
    "import pandas as pd\n",
    "\n",
    "def analyze_sentiment(lyrics):\n",
    "    sentiment = TextBlob(lyrics).sentiment\n",
    "    sentiment_percentage = (sentiment.polarity + 1) / 2 * 100  \n",
    "    return sentiment_percentage\n",
    "\n",
    "df = pd.read_csv('cleaned_lyrics_dataset.csv')\n",
    "\n",
    "df['Sentiment_Percentage'] = df['lyric'].apply(analyze_sentiment) \n",
    "album_sentiment = df.groupby('album_name')['Sentiment_Percentage'].mean().reset_index()\n",
    "\n",
    "output_path_album_sentiment = 'album_sentiment_analysis_results.csv'\n",
    "album_sentiment.to_csv(output_path_album_sentiment, index=False)\n",
    "\n",
    "output_path_album_sentiment\n"
   ]
  },
  {
   "cell_type": "code",
   "execution_count": null,
   "id": "1b3b799c-281f-4288-a2b0-4aea0aca19f7",
   "metadata": {},
   "outputs": [],
   "source": []
  }
 ],
 "metadata": {
  "kernelspec": {
   "display_name": "Python 3 (ipykernel)",
   "language": "python",
   "name": "python3"
  },
  "language_info": {
   "codemirror_mode": {
    "name": "ipython",
    "version": 3
   },
   "file_extension": ".py",
   "mimetype": "text/x-python",
   "name": "python",
   "nbconvert_exporter": "python",
   "pygments_lexer": "ipython3",
   "version": "3.11.7"
  }
 },
 "nbformat": 4,
 "nbformat_minor": 5
}
