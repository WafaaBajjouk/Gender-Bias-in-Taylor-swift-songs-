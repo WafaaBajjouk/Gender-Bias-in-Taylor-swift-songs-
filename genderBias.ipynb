{
 "cells": [
  {
   "cell_type": "code",
   "execution_count": 10,
   "id": "ce5457f5-bee4-41c1-890b-2a0c8127f4c8",
   "metadata": {},
   "outputs": [
    {
     "name": "stdout",
     "output_type": "stream",
     "text": [
      "Requirement already satisfied: matplotlib in /opt/homebrew/lib/python3.11/site-packages (3.8.2)\n",
      "Requirement already satisfied: seaborn in /opt/homebrew/lib/python3.11/site-packages (0.13.1)\n",
      "Requirement already satisfied: contourpy>=1.0.1 in /opt/homebrew/lib/python3.11/site-packages (from matplotlib) (1.2.0)\n",
      "Requirement already satisfied: cycler>=0.10 in /opt/homebrew/lib/python3.11/site-packages (from matplotlib) (0.12.1)\n",
      "Requirement already satisfied: fonttools>=4.22.0 in /opt/homebrew/lib/python3.11/site-packages (from matplotlib) (4.47.0)\n",
      "Requirement already satisfied: kiwisolver>=1.3.1 in /opt/homebrew/lib/python3.11/site-packages (from matplotlib) (1.4.5)\n",
      "Requirement already satisfied: numpy<2,>=1.21 in /opt/homebrew/lib/python3.11/site-packages (from matplotlib) (1.26.3)\n",
      "Requirement already satisfied: packaging>=20.0 in /opt/homebrew/lib/python3.11/site-packages (from matplotlib) (23.2)\n",
      "Requirement already satisfied: pillow>=8 in /opt/homebrew/lib/python3.11/site-packages (from matplotlib) (10.2.0)\n",
      "Requirement already satisfied: pyparsing>=2.3.1 in /opt/homebrew/lib/python3.11/site-packages (from matplotlib) (3.1.1)\n",
      "Requirement already satisfied: python-dateutil>=2.7 in /opt/homebrew/lib/python3.11/site-packages (from matplotlib) (2.8.2)\n",
      "Requirement already satisfied: pandas>=1.2 in /opt/homebrew/lib/python3.11/site-packages (from seaborn) (2.1.4)\n",
      "Requirement already satisfied: pytz>=2020.1 in /opt/homebrew/lib/python3.11/site-packages (from pandas>=1.2->seaborn) (2023.3.post1)\n",
      "Requirement already satisfied: tzdata>=2022.1 in /opt/homebrew/lib/python3.11/site-packages (from pandas>=1.2->seaborn) (2023.4)\n",
      "Requirement already satisfied: six>=1.5 in /opt/homebrew/lib/python3.11/site-packages (from python-dateutil>=2.7->matplotlib) (1.16.0)\n",
      "\n",
      "\u001b[1m[\u001b[0m\u001b[34;49mnotice\u001b[0m\u001b[1;39;49m]\u001b[0m\u001b[39;49m A new release of pip is available: \u001b[0m\u001b[31;49m23.3.2\u001b[0m\u001b[39;49m -> \u001b[0m\u001b[32;49m24.0\u001b[0m\n",
      "\u001b[1m[\u001b[0m\u001b[34;49mnotice\u001b[0m\u001b[1;39;49m]\u001b[0m\u001b[39;49m To update, run: \u001b[0m\u001b[32;49mpython3.11 -m pip install --upgrade pip\u001b[0m\n"
     ]
    }
   ],
   "source": [
    "!pip install matplotlib seaborn\n"
   ]
  },
  {
   "cell_type": "markdown",
   "id": "641c96b8-707c-4f99-8ce9-d73c9339ee5e",
   "metadata": {},
   "source": [
    "# Gender Bias in Taylor Swift Songs\n",
    "\n",
    "I will Analyze gender bias in the lyrics column and group the results by each different album\n",
    "\n",
    "### Methodology\n",
    "1. **Pronoun Analysis**: Counted the frequency of male, female, and neutral pronouns within the lyrics to quantify gender representation.\n",
    "\n"
   ]
  },
  {
   "cell_type": "code",
   "execution_count": 8,
   "id": "09e5b589-e8d5-4641-a9f0-b2693e0cb679",
   "metadata": {},
   "outputs": [
    {
     "data": {
      "text/html": [
       "<div>\n",
       "<style scoped>\n",
       "    .dataframe tbody tr th:only-of-type {\n",
       "        vertical-align: middle;\n",
       "    }\n",
       "\n",
       "    .dataframe tbody tr th {\n",
       "        vertical-align: top;\n",
       "    }\n",
       "\n",
       "    .dataframe thead th {\n",
       "        text-align: right;\n",
       "    }\n",
       "</style>\n",
       "<table border=\"1\" class=\"dataframe\">\n",
       "  <thead>\n",
       "    <tr style=\"text-align: right;\">\n",
       "      <th></th>\n",
       "      <th>album_name</th>\n",
       "      <th>male_pronouns</th>\n",
       "      <th>female_pronouns</th>\n",
       "      <th>neutral_pronouns</th>\n",
       "      <th>total_pronouns</th>\n",
       "    </tr>\n",
       "  </thead>\n",
       "  <tbody>\n",
       "    <tr>\n",
       "      <th>0</th>\n",
       "      <td>1989 (Deluxe)</td>\n",
       "      <td>23</td>\n",
       "      <td>6</td>\n",
       "      <td>32</td>\n",
       "      <td>61</td>\n",
       "    </tr>\n",
       "    <tr>\n",
       "      <th>1</th>\n",
       "      <td>Fearless (Taylor’s Version)</td>\n",
       "      <td>29</td>\n",
       "      <td>12</td>\n",
       "      <td>15</td>\n",
       "      <td>56</td>\n",
       "    </tr>\n",
       "    <tr>\n",
       "      <th>2</th>\n",
       "      <td>Lover</td>\n",
       "      <td>34</td>\n",
       "      <td>0</td>\n",
       "      <td>29</td>\n",
       "      <td>63</td>\n",
       "    </tr>\n",
       "    <tr>\n",
       "      <th>3</th>\n",
       "      <td>Red (Deluxe Edition)</td>\n",
       "      <td>58</td>\n",
       "      <td>6</td>\n",
       "      <td>12</td>\n",
       "      <td>76</td>\n",
       "    </tr>\n",
       "    <tr>\n",
       "      <th>4</th>\n",
       "      <td>Speak Now (Deluxe)</td>\n",
       "      <td>17</td>\n",
       "      <td>26</td>\n",
       "      <td>30</td>\n",
       "      <td>73</td>\n",
       "    </tr>\n",
       "    <tr>\n",
       "      <th>5</th>\n",
       "      <td>Taylor Swift</td>\n",
       "      <td>43</td>\n",
       "      <td>14</td>\n",
       "      <td>4</td>\n",
       "      <td>61</td>\n",
       "    </tr>\n",
       "    <tr>\n",
       "      <th>6</th>\n",
       "      <td>evermore (deluxe version)</td>\n",
       "      <td>33</td>\n",
       "      <td>18</td>\n",
       "      <td>17</td>\n",
       "      <td>68</td>\n",
       "    </tr>\n",
       "    <tr>\n",
       "      <th>7</th>\n",
       "      <td>folklore (deluxe version)</td>\n",
       "      <td>6</td>\n",
       "      <td>29</td>\n",
       "      <td>24</td>\n",
       "      <td>59</td>\n",
       "    </tr>\n",
       "    <tr>\n",
       "      <th>8</th>\n",
       "      <td>reputation</td>\n",
       "      <td>32</td>\n",
       "      <td>2</td>\n",
       "      <td>52</td>\n",
       "      <td>86</td>\n",
       "    </tr>\n",
       "  </tbody>\n",
       "</table>\n",
       "</div>"
      ],
      "text/plain": [
       "                    album_name  male_pronouns  female_pronouns  \\\n",
       "0                1989 (Deluxe)             23                6   \n",
       "1  Fearless (Taylor’s Version)             29               12   \n",
       "2                        Lover             34                0   \n",
       "3         Red (Deluxe Edition)             58                6   \n",
       "4           Speak Now (Deluxe)             17               26   \n",
       "5                 Taylor Swift             43               14   \n",
       "6    evermore (deluxe version)             33               18   \n",
       "7    folklore (deluxe version)              6               29   \n",
       "8                   reputation             32                2   \n",
       "\n",
       "   neutral_pronouns  total_pronouns  \n",
       "0                32              61  \n",
       "1                15              56  \n",
       "2                29              63  \n",
       "3                12              76  \n",
       "4                30              73  \n",
       "5                 4              61  \n",
       "6                17              68  \n",
       "7                24              59  \n",
       "8                52              86  "
      ]
     },
     "execution_count": 8,
     "metadata": {},
     "output_type": "execute_result"
    }
   ],
   "source": [
    "import pandas as pd\n",
    "\n",
    "df = pd.read_csv('cleaned_lyrics_dataset.csv')\n",
    "\n",
    "# Lists of pronouns to search for gender bias\n",
    "male_pronouns = ['he', 'him', 'his']\n",
    "female_pronouns = ['she', 'her', 'hers']\n",
    "neutral_pronouns = ['they', 'them', 'theirs']\n",
    "\n",
    "def count_pronouns(text, pronouns):\n",
    "    \"\"\"Count the occurrences of specified pronouns in the text.\"\"\"\n",
    "    words = text.split()\n",
    "    return sum(word in pronouns for word in words)\n",
    "\n",
    "df['male_pronouns'] = df['lyric'].apply(lambda x: count_pronouns(x, male_pronouns) if isinstance(x, str) else 0)\n",
    "df['female_pronouns'] = df['lyric'].apply(lambda x: count_pronouns(x, female_pronouns) if isinstance(x, str) else 0)\n",
    "df['neutral_pronouns'] = df['lyric'].apply(lambda x: count_pronouns(x, neutral_pronouns) if isinstance(x, str) else 0)\n",
    "\n",
    "album_gender_bias = df.groupby('album_name').agg({\n",
    "    'male_pronouns': 'sum',\n",
    "    'female_pronouns': 'sum',\n",
    "    'neutral_pronouns': 'sum'\n",
    "}).reset_index()\n",
    "\n",
    "album_gender_bias['total_pronouns'] = album_gender_bias['male_pronouns'] + album_gender_bias['female_pronouns'] + album_gender_bias['neutral_pronouns']\n",
    "album_gender_bias"
   ]
  },
  {
   "cell_type": "markdown",
   "id": "b002824d-47d1-4264-ace0-f8390e50e6a4",
   "metadata": {},
   "source": [
    "# Visualisation of the result "
   ]
  },
  {
   "cell_type": "code",
   "execution_count": 11,
   "id": "b2988607-5ecd-4ebd-9234-40b3bea7b0ab",
   "metadata": {},
   "outputs": [
    {
     "data": {
      "image/png": "[encoded data removed]",
      "text/plain": [
       "<Figure size 1000x600 with 1 Axes>"
      ]
     },
     "metadata": {},
     "output_type": "display_data"
    }
   ],
   "source": []
  },
  {
   "cell_type": "code",
   "execution_count": null,
   "id": "8831e7e5-0eff-43a5-8e8a-385a9bac2806",
   "metadata": {},
   "outputs": [],
   "source": []
  }
 ],
 "metadata": {
  "kernelspec": {
   "display_name": "Python 3 (ipykernel)",
   "language": "python",
   "name": "python3"
  },
  "language_info": {
   "codemirror_mode": {
    "name": "ipython",
    "version": 3
   },
   "file_extension": ".py",
   "mimetype": "text/x-python",
   "name": "python",
   "nbconvert_exporter": "python",
   "pygments_lexer": "ipython3",
   "version": "3.11.7"
  }
 },
 "nbformat": 4,
 "nbformat_minor": 5
}
