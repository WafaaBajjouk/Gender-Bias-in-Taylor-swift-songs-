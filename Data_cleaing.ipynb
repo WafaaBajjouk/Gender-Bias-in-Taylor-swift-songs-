{
 "cells": [
  {
   "cell_type": "code",
   "execution_count": 4,
   "id": "083f9d9f-81b1-4e78-acec-8fbcdd073ab0",
   "metadata": {},
   "outputs": [
    {
     "name": "stderr",
     "output_type": "stream",
     "text": [
      "[nltk_data] Downloading package punkt to\n",
      "[nltk_data]     /Users/wafaabajjouk/nltk_data...\n",
      "[nltk_data]   Package punkt is already up-to-date!\n",
      "[nltk_data] Downloading package stopwords to\n",
      "[nltk_data]     /Users/wafaabajjouk/nltk_data...\n",
      "[nltk_data]   Package stopwords is already up-to-date!\n"
     ]
    },
    {
     "data": {
      "text/plain": [
       "'cleaned_data.csv'"
      ]
     },
     "execution_count": 4,
     "metadata": {},
     "output_type": "execute_result"
    }
   ],
   "source": [
    "import pandas as pd\n",
    "import string\n",
    "import nltk\n",
    "from nltk.corpus import stopwords\n",
    "from nltk.tokenize import word_tokenize\n",
    "\n",
    "# Download NLTK stop words and tokenizer (do this once)\n",
    "nltk.download('punkt')\n",
    "nltk.download('stopwords')\n",
    "\n",
    "# Load the dataset\n",
    "dd = pd.read_csv('taylor_lyrics.csv', delimiter=',')\n",
    "\n",
    "# Function to remove punctuation and convert to lowercase\n",
    "def remove_punctuation_and_lower(text):\n",
    "    return text.translate(str.maketrans('', '', string.punctuation)).lower()\n",
    "\n",
    "\n",
    "# Apply the functions to clean the lyrics\n",
    "dd['Lyrics'] = dd['Lyrics'].apply(lambda x: remove_punctuation_and_lower(x) if isinstance(x, str) else x)\n",
    "dd['Lyrics'] = dd['Lyrics'].apply(lambda x: remove_stop_words(x) if isinstance(x, str) else x)\n",
    "\n",
    "# Save the cleaned dataset\n",
    "output_path_dd = 'cleaned_data.csv'\n",
    "dd.to_csv(output_path_dd, index=False)\n",
    "\n",
    "output_path_dd\n"
   ]
  },
  {
   "cell_type": "code",
   "execution_count": null,
   "id": "eebd410f-497a-4e29-b370-1e3385121611",
   "metadata": {},
   "outputs": [],
   "source": []
  }
 ],
 "metadata": {
  "kernelspec": {
   "display_name": "Python 3 (ipykernel)",
   "language": "python",
   "name": "python3"
  },
  "language_info": {
   "codemirror_mode": {
    "name": "ipython",
    "version": 3
   },
   "file_extension": ".py",
   "mimetype": "text/x-python",
   "name": "python",
   "nbconvert_exporter": "python",
   "pygments_lexer": "ipython3",
   "version": "3.11.7"
  }
 },
 "nbformat": 4,
 "nbformat_minor": 5
}
